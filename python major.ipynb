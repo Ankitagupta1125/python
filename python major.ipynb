{
 "cells": [
  {
   "cell_type": "code",
   "execution_count": 7,
   "metadata": {},
   "outputs": [
    {
     "name": "stdout",
     "output_type": "stream",
     "text": [
      "<class 'int'>\n",
      "<class 'str'>\n"
     ]
    }
   ],
   "source": [
    "1.    #Find the data type of these two declaration: \n",
    "x=5 \n",
    "y=\"John\" \n",
    "print(type(x))\n",
    "print(type(y))\n",
    "\n",
    "\n",
    "\n",
    "\n"
   ]
  },
  {
   "cell_type": "code",
   "execution_count": 39,
   "metadata": {},
   "outputs": [
    {
     "name": "stdout",
     "output_type": "stream",
     "text": [
      "#invalid syntax\n",
      "#invalid syntax\n",
      "#valid syntax\n",
      "#valid syntax\n",
      "#invalid syntax\n",
      "#invalid syntax\n"
     ]
    }
   ],
   "source": [
    "2.  # Check whether the following syntax is valid or invalid for naming a variable.: \n",
    "#Example: abc = 100 #valid syntax \n",
    "   #2(i)\n",
    "if3a=10\n",
    "print(\"#invalid syntax\") \n",
    "   #2(ii)\n",
    "#@abc=10 \n",
    "print(\"#invalid syntax\")\n",
    "\n",
    "   #2(iii)\n",
    "a100=100 \n",
    "print(\"#valid syntax\")\n",
    "   #2(iv)\n",
    "_a984_=100\n",
    "print(\"#valid syntax\")\n",
    "    #2(v)\n",
    "# a9967$=100 \n",
    "print(\"#invalid syntax\")\n",
    "\n",
    "    #2(vi)\n",
    "# xyz-2=100 \n",
    "print(\"#invalid syntax\")\n",
    "\n",
    "\n",
    "\n"
   ]
  },
  {
   "cell_type": "code",
   "execution_count": 63,
   "metadata": {},
   "outputs": [
    {
     "name": "stdout",
     "output_type": "stream",
     "text": [
      "Element exist\n",
      "Element exist\n"
     ]
    }
   ],
   "source": [
    " # 3(1)Check if element exists in list in Python:\n",
    " #list=test_list=[1,6,3,5,3,4]\n",
    "  #1.Check if 3 exist or not.\n",
    "test_list=[1,6,3,5,3,4]\n",
    "for i in test_list :\n",
    "    if(i==3):\n",
    "      print(\"Element exist\") \n",
    "         \n"
   ]
  },
  {
   "cell_type": "code",
   "execution_count": 64,
   "metadata": {},
   "outputs": [
    {
     "name": "stdout",
     "output_type": "stream",
     "text": [
      "Element not exist\n"
     ]
    }
   ],
   "source": [
    "# 3(2)  Check if 9 exists or not.\n",
    "test_list=[1,6,3,5,3,4]\n",
    "if(i==9):\n",
    "      print(\"element exist\")\n",
    "else:\n",
    "         print(\"Element not exist\")\n",
    "\n"
   ]
  },
  {
   "cell_type": "code",
   "execution_count": 72,
   "metadata": {},
   "outputs": [
    {
     "name": "stdout",
     "output_type": "stream",
     "text": [
      "2023-05-22\n"
     ]
    }
   ],
   "source": [
    "4.#return the current date\n",
    "from datetime import date\n",
    "Today= date.today()\n",
    "print(Today)"
   ]
  },
  {
   "cell_type": "code",
   "execution_count": 16,
   "metadata": {},
   "outputs": [
    {
     "ename": "IndentationError",
     "evalue": "unexpected indent (549378371.py, line 4)",
     "output_type": "error",
     "traceback": [
      "\u001b[1;36m  Cell \u001b[1;32mIn[16], line 4\u001b[1;36m\u001b[0m\n\u001b[1;33m    print9//2\u001b[0m\n\u001b[1;37m    ^\u001b[0m\n\u001b[1;31mIndentationError\u001b[0m\u001b[1;31m:\u001b[0m unexpected indent\n"
     ]
    }
   ],
   "source": [
    "5.# what is the output of the following code:\n",
    "#a. print9//2\n",
    "#b. print9%2\n",
    " print9//2 \n",
    " print9%2\n"
   ]
  },
  {
   "cell_type": "code",
   "execution_count": 2,
   "metadata": {},
   "outputs": [
    {
     "name": "stdout",
     "output_type": "stream",
     "text": [
      "1 2 3 4 5 6 7 8 9 10 "
     ]
    }
   ],
   "source": [
    "6.#Print First 10 natural numbers using a while loop\n",
    "i=1\n",
    "while i<=10:\n",
    "    print(i,end=' ')\n",
    "    i+=1\n"
   ]
  },
  {
   "cell_type": "code",
   "execution_count": 4,
   "metadata": {},
   "outputs": [
    {
     "name": "stdout",
     "output_type": "stream",
     "text": [
      "The sum of all numbers from 1 to the given number is:  55\n"
     ]
    }
   ],
   "source": [
    "7. #Write a program to accept a number from a user and calculate the sum of all numbers from 1 to a given number.\n",
    "#Forexample,if the user entered 10 the output should be 55 (1+2+3+4+5+6+7+8+9+10)\n",
    "n = int(input(\"Enter a number: \"))\n",
    "\n",
    "s = 0\n",
    "\n",
    "for i in range(n + 1):\n",
    "\n",
    "   s += i\n",
    "\n",
    "print(\"The sum of all numbers from 1 to the given number is: \", s)"
   ]
  },
  {
   "cell_type": "code",
   "execution_count": 13,
   "metadata": {},
   "outputs": [
    {
     "name": "stdout",
     "output_type": "stream",
     "text": [
      "fizzbuzz\n",
      "1\n",
      "2\n",
      "fizz\n",
      "4\n",
      "buzz\n",
      "fizz\n",
      "7\n",
      "8\n",
      "fizz\n",
      "buzz\n",
      "11\n",
      "fizz\n",
      "13\n",
      "14\n",
      "fizzbuzz\n",
      "16\n",
      "17\n",
      "fizz\n",
      "19\n",
      "buzz\n",
      "fizz\n",
      "22\n",
      "23\n",
      "fizz\n",
      "buzz\n",
      "26\n",
      "fizz\n",
      "28\n",
      "29\n",
      "fizzbuzz\n",
      "31\n",
      "32\n",
      "fizz\n",
      "34\n",
      "buzz\n",
      "fizz\n",
      "37\n",
      "38\n",
      "fizz\n",
      "buzz\n",
      "41\n",
      "fizz\n",
      "43\n",
      "44\n",
      "fizzbuzz\n",
      "46\n",
      "47\n",
      "fizz\n",
      "49\n",
      "buzz\n"
     ]
    }
   ],
   "source": [
    "8. #Write a Python program which iterates the integers from 1to50. For multiples of three print \"Fizz\" instead of the number and\n",
    "#for the multiples of five print \"Buzz\". For numbers which are multiples of both three and five print \"Fizz Buzz\".\n",
    "#Example:\n",
    "#fizz buzz \n",
    "#  1 \n",
    "#  2 \n",
    "#fizz \n",
    "#  4\n",
    "#buzz\n",
    "\n",
    "for fizzbuzz in range(51):\n",
    "    if fizzbuzz % 3 == 0 and fizzbuzz % 5 == 0:\n",
    "        print(\"fizzbuzz\")\n",
    "        continue\n",
    "    elif fizzbuzz % 3 == 0:\n",
    "        print(\"fizz\")\n",
    "        continue\n",
    "    elif fizzbuzz % 5 == 0:\n",
    "        print(\"buzz\")\n",
    "        continue\n",
    "    print(fizzbuzz)"
   ]
  }
 ],
 "metadata": {
  "kernelspec": {
   "display_name": "Python 3",
   "language": "python",
   "name": "python3"
  },
  "language_info": {
   "codemirror_mode": {
    "name": "ipython",
    "version": 3
   },
   "file_extension": ".py",
   "mimetype": "text/x-python",
   "name": "python",
   "nbconvert_exporter": "python",
   "pygments_lexer": "ipython3",
   "version": "3.11.2"
  },
  "orig_nbformat": 4
 },
 "nbformat": 4,
 "nbformat_minor": 2
}
